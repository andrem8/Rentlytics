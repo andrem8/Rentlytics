{
 "cells": [
  {
   "cell_type": "code",
   "execution_count": 123,
   "metadata": {
    "collapsed": true
   },
   "outputs": [],
   "source": [
    "%matplotlib inline\n",
    "\n",
    "import xlwt\n",
    "import pandas as pd\n",
    "import matplotlib.pyplot as plt\n",
    "import numpy as np"
   ]
  },
  {
   "cell_type": "code",
   "execution_count": 99,
   "metadata": {
    "collapsed": false
   },
   "outputs": [],
   "source": [
    "Onboarding_data = pd.read_csv('Onboarding Tasks by User - anonymized.csv')"
   ]
  },
  {
   "cell_type": "code",
   "execution_count": 100,
   "metadata": {
    "collapsed": false
   },
   "outputs": [
    {
     "data": {
      "text/html": [
       "<div>\n",
       "<table border=\"1\" class=\"dataframe\">\n",
       "  <thead>\n",
       "    <tr style=\"text-align: right;\">\n",
       "      <th></th>\n",
       "      <th>End User Guid</th>\n",
       "      <th>Task ID</th>\n",
       "      <th>Task Name</th>\n",
       "      <th>Task Completion Date</th>\n",
       "    </tr>\n",
       "  </thead>\n",
       "  <tbody>\n",
       "    <tr>\n",
       "      <th>0</th>\n",
       "      <td>springer@company1.com</td>\n",
       "      <td>10262</td>\n",
       "      <td>How is Actual Rent calculated?</td>\n",
       "      <td>10/7/15 21:53</td>\n",
       "    </tr>\n",
       "    <tr>\n",
       "      <th>1</th>\n",
       "      <td>vendorhelp@company2.com</td>\n",
       "      <td>10260</td>\n",
       "      <td>Where does Rentlytics' data come from?</td>\n",
       "      <td>10/8/15 0:30</td>\n",
       "    </tr>\n",
       "    <tr>\n",
       "      <th>2</th>\n",
       "      <td>ramsey@company2.com</td>\n",
       "      <td>9021</td>\n",
       "      <td>How to Navigate Rentlytics</td>\n",
       "      <td>10/8/15 0:32</td>\n",
       "    </tr>\n",
       "    <tr>\n",
       "      <th>3</th>\n",
       "      <td>thompson@company2.com</td>\n",
       "      <td>10260</td>\n",
       "      <td>Where does Rentlytics' data come from?</td>\n",
       "      <td>10/8/15 0:37</td>\n",
       "    </tr>\n",
       "    <tr>\n",
       "      <th>4</th>\n",
       "      <td>mitts@company2.com</td>\n",
       "      <td>10262</td>\n",
       "      <td>How is Actual Rent calculated?</td>\n",
       "      <td>10/8/15 0:38</td>\n",
       "    </tr>\n",
       "  </tbody>\n",
       "</table>\n",
       "</div>"
      ],
      "text/plain": [
       "             End User Guid  Task ID                               Task Name  \\\n",
       "0    springer@company1.com    10262          How is Actual Rent calculated?   \n",
       "1  vendorhelp@company2.com    10260  Where does Rentlytics' data come from?   \n",
       "2      ramsey@company2.com     9021              How to Navigate Rentlytics   \n",
       "3    thompson@company2.com    10260  Where does Rentlytics' data come from?   \n",
       "4       mitts@company2.com    10262          How is Actual Rent calculated?   \n",
       "\n",
       "  Task Completion Date  \n",
       "0        10/7/15 21:53  \n",
       "1         10/8/15 0:30  \n",
       "2         10/8/15 0:32  \n",
       "3         10/8/15 0:37  \n",
       "4         10/8/15 0:38  "
      ]
     },
     "execution_count": 100,
     "metadata": {},
     "output_type": "execute_result"
    }
   ],
   "source": [
    "Onboarding_data.head()"
   ]
  },
  {
   "cell_type": "code",
   "execution_count": 108,
   "metadata": {
    "collapsed": false
   },
   "outputs": [],
   "source": [
    "from xlsxwriter.utility import xl_rowcol_to_cell\n",
    "User_data = pd.read_excel(\"User _ Company List - anonymized.xlsx\")"
   ]
  },
  {
   "cell_type": "code",
   "execution_count": 117,
   "metadata": {
    "collapsed": false
   },
   "outputs": [
    {
     "data": {
      "text/html": [
       "<div>\n",
       "<table border=\"1\" class=\"dataframe\">\n",
       "  <thead>\n",
       "    <tr style=\"text-align: right;\">\n",
       "      <th></th>\n",
       "      <th>Organization Name</th>\n",
       "      <th>First Name</th>\n",
       "      <th>Last Name</th>\n",
       "      <th>End User Guid</th>\n",
       "    </tr>\n",
       "  </thead>\n",
       "  <tbody>\n",
       "    <tr>\n",
       "      <th>0</th>\n",
       "      <td>Version: 1.0.0</td>\n",
       "      <td>NaN</td>\n",
       "      <td>NaN</td>\n",
       "      <td>NaN</td>\n",
       "    </tr>\n",
       "    <tr>\n",
       "      <th>1</th>\n",
       "      <td>As Of: 2015-10-16</td>\n",
       "      <td>NaN</td>\n",
       "      <td>NaN</td>\n",
       "      <td>NaN</td>\n",
       "    </tr>\n",
       "    <tr>\n",
       "      <th>2</th>\n",
       "      <td>organization_name</td>\n",
       "      <td>first_name</td>\n",
       "      <td>last_name</td>\n",
       "      <td>email</td>\n",
       "    </tr>\n",
       "    <tr>\n",
       "      <th>3</th>\n",
       "      <td>Company1</td>\n",
       "      <td>Richard</td>\n",
       "      <td>Springer</td>\n",
       "      <td>springer@company1.com</td>\n",
       "    </tr>\n",
       "    <tr>\n",
       "      <th>4</th>\n",
       "      <td>Company2</td>\n",
       "      <td>Teresa</td>\n",
       "      <td>Epoch</td>\n",
       "      <td>epoch@company2.com</td>\n",
       "    </tr>\n",
       "  </tbody>\n",
       "</table>\n",
       "</div>"
      ],
      "text/plain": [
       "   Organization Name  First Name  Last Name          End User Guid\n",
       "0     Version: 1.0.0         NaN        NaN                    NaN\n",
       "1  As Of: 2015-10-16         NaN        NaN                    NaN\n",
       "2  organization_name  first_name  last_name                  email\n",
       "3           Company1     Richard   Springer  springer@company1.com\n",
       "4           Company2      Teresa      Epoch     epoch@company2.com"
      ]
     },
     "execution_count": 117,
     "metadata": {},
     "output_type": "execute_result"
    }
   ],
   "source": [
    "User_data.columns = [ 'Organization Name','First Name','Last Name','End User Guid']\n",
    "User_data.head()"
   ]
  },
  {
   "cell_type": "code",
   "execution_count": 110,
   "metadata": {
    "collapsed": false
   },
   "outputs": [],
   "source": [
    "all_data = pd.merge(User_data, Onboarding_data, on='End User Guid', how='left')"
   ]
  },
  {
   "cell_type": "code",
   "execution_count": 111,
   "metadata": {
    "collapsed": false
   },
   "outputs": [],
   "source": [
    "pivot_data = pd.pivot_table(all_data,index=[\"Organization Name\",\"End User Guid\"],values=[\"Task ID\"],aggfunc= 'count')"
   ]
  },
  {
   "cell_type": "code",
   "execution_count": 112,
   "metadata": {
    "collapsed": false
   },
   "outputs": [],
   "source": [
    "new_data = pivot_data['Task ID'] / 11 * 100\n",
    "pivot_data['Percent Completed'] = new_data"
   ]
  },
  {
   "cell_type": "code",
   "execution_count": 120,
   "metadata": {
    "collapsed": false
   },
   "outputs": [
    {
     "data": {
      "text/html": [
       "<div>\n",
       "<table border=\"1\" class=\"dataframe\">\n",
       "  <thead>\n",
       "    <tr style=\"text-align: right;\">\n",
       "      <th></th>\n",
       "      <th></th>\n",
       "      <th>Task ID</th>\n",
       "      <th>Percent Completed</th>\n",
       "    </tr>\n",
       "    <tr>\n",
       "      <th>Organization Name</th>\n",
       "      <th>End User Guid</th>\n",
       "      <th></th>\n",
       "      <th></th>\n",
       "    </tr>\n",
       "  </thead>\n",
       "  <tbody>\n",
       "    <tr>\n",
       "      <th>Company1</th>\n",
       "      <th>springer@company1.com</th>\n",
       "      <td>2</td>\n",
       "      <td>18.181818</td>\n",
       "    </tr>\n",
       "    <tr>\n",
       "      <th rowspan=\"4\" valign=\"top\">Company10</th>\n",
       "      <th>grandstaff@company10.com</th>\n",
       "      <td>0</td>\n",
       "      <td>0.000000</td>\n",
       "    </tr>\n",
       "    <tr>\n",
       "      <th>johnson@company10.com</th>\n",
       "      <td>0</td>\n",
       "      <td>0.000000</td>\n",
       "    </tr>\n",
       "    <tr>\n",
       "      <th>mattson demo@company10.com</th>\n",
       "      <td>0</td>\n",
       "      <td>0.000000</td>\n",
       "    </tr>\n",
       "    <tr>\n",
       "      <th>somogyi@company10.com</th>\n",
       "      <td>0</td>\n",
       "      <td>0.000000</td>\n",
       "    </tr>\n",
       "  </tbody>\n",
       "</table>\n",
       "</div>"
      ],
      "text/plain": [
       "                                              Task ID  Percent Completed\n",
       "Organization Name End User Guid                                         \n",
       "Company1          springer@company1.com             2          18.181818\n",
       "Company10         grandstaff@company10.com          0           0.000000\n",
       "                  johnson@company10.com             0           0.000000\n",
       "                  mattson demo@company10.com        0           0.000000\n",
       "                  somogyi@company10.com             0           0.000000"
      ]
     },
     "execution_count": 120,
     "metadata": {},
     "output_type": "execute_result"
    }
   ],
   "source": [
    "pivot_data.head()"
   ]
  },
  {
   "cell_type": "code",
   "execution_count": 126,
   "metadata": {
    "collapsed": false
   },
   "outputs": [
    {
     "data": {
      "text/html": [
       "<div>\n",
       "<table border=\"1\" class=\"dataframe\">\n",
       "  <thead>\n",
       "    <tr style=\"text-align: right;\">\n",
       "      <th></th>\n",
       "      <th></th>\n",
       "      <th>Task ID</th>\n",
       "      <th>Percent Completed</th>\n",
       "    </tr>\n",
       "    <tr>\n",
       "      <th>Organization Name</th>\n",
       "      <th>End User Guid</th>\n",
       "      <th></th>\n",
       "      <th></th>\n",
       "    </tr>\n",
       "  </thead>\n",
       "  <tbody>\n",
       "    <tr>\n",
       "      <th>Company1</th>\n",
       "      <th>springer@company1.com</th>\n",
       "      <td>2</td>\n",
       "      <td>18.181818</td>\n",
       "    </tr>\n",
       "    <tr>\n",
       "      <th>Company11</th>\n",
       "      <th>teufel@company11.com</th>\n",
       "      <td>6</td>\n",
       "      <td>54.545455</td>\n",
       "    </tr>\n",
       "    <tr>\n",
       "      <th>Company17</th>\n",
       "      <th>sanchez@company17.com</th>\n",
       "      <td>5</td>\n",
       "      <td>45.454545</td>\n",
       "    </tr>\n",
       "    <tr>\n",
       "      <th rowspan=\"2\" valign=\"top\">Company2</th>\n",
       "      <th>ferrer@company2.com</th>\n",
       "      <td>2</td>\n",
       "      <td>18.181818</td>\n",
       "    </tr>\n",
       "    <tr>\n",
       "      <th>giambanco@company2.com</th>\n",
       "      <td>2</td>\n",
       "      <td>18.181818</td>\n",
       "    </tr>\n",
       "  </tbody>\n",
       "</table>\n",
       "</div>"
      ],
      "text/plain": [
       "                                          Task ID  Percent Completed\n",
       "Organization Name End User Guid                                     \n",
       "Company1          springer@company1.com         2          18.181818\n",
       "Company11         teufel@company11.com          6          54.545455\n",
       "Company17         sanchez@company17.com         5          45.454545\n",
       "Company2          ferrer@company2.com           2          18.181818\n",
       "                  giambanco@company2.com        2          18.181818"
      ]
     },
     "execution_count": 126,
     "metadata": {},
     "output_type": "execute_result"
    }
   ],
   "source": [
    "pivot_data_filtered = pivot_data.ix[pivot_data['Task ID'] >= 1]\n",
    "pivot_data_filtered.head()"
   ]
  },
  {
   "cell_type": "code",
   "execution_count": 127,
   "metadata": {
    "collapsed": false
   },
   "outputs": [],
   "source": [
    "writer = pd.ExcelWriter('Training Completion Report.xlsx', engine='xlsxwriter')\n",
    "pivot_data.to_excel(writer, sheet_name='Summary')\n",
    "writer.save()\n",
    "writer = pd.ExcelWriter('Training Completion Report for Started Training.xlsx', engine='xlsxwriter')\n",
    "pivot_data_filtered.to_excel(writer, sheet_name='Summary')\n",
    "writer.save()"
   ]
  },
  {
   "cell_type": "code",
   "execution_count": null,
   "metadata": {
    "collapsed": true
   },
   "outputs": [],
   "source": []
  }
 ],
 "metadata": {
  "anaconda-cloud": {},
  "kernelspec": {
   "display_name": "Python [conda root]",
   "language": "python",
   "name": "conda-root-py"
  },
  "language_info": {
   "codemirror_mode": {
    "name": "ipython",
    "version": 3
   },
   "file_extension": ".py",
   "mimetype": "text/x-python",
   "name": "python",
   "nbconvert_exporter": "python",
   "pygments_lexer": "ipython3",
   "version": "3.5.2"
  }
 },
 "nbformat": 4,
 "nbformat_minor": 1
}
